{
 "cells": [
  {
   "cell_type": "markdown",
   "metadata": {},
   "source": [
    "# **Exploratory Data Analysis Project**\n",
    "This notebook aims at practicing data analysis and using the data for a simple machine learning task. The dataset was downloaded from an official EU database and was originally provided by the Central Statistics Office of the Irish government. It represents information about the employment rate between 2019 and 2024."
   ]
  },
  {
   "cell_type": "code",
   "execution_count": null,
   "metadata": {},
   "outputs": [],
   "source": [
    "# imports\n",
    "import numpy as np\n",
    "import matplotlib.pyplot as plt\n",
    "import pandas as pd\n",
    "import seaborn as sns\n",
    "%matplotlib inline"
   ]
  },
  {
   "cell_type": "markdown",
   "metadata": {},
   "source": [
    "## **1. Retrieving Data**"
   ]
  },
  {
   "cell_type": "code",
   "execution_count": 2,
   "metadata": {},
   "outputs": [
    {
     "data": {
      "application/vnd.microsoft.datawrangler.viewer.v0+json": {
       "columns": [
        {
         "name": "index",
         "rawType": "int64",
         "type": "integer"
        },
        {
         "name": "STATISTIC",
         "rawType": "object",
         "type": "string"
        },
        {
         "name": "Statistic Label",
         "rawType": "object",
         "type": "string"
        },
        {
         "name": "TLIST(Q1)",
         "rawType": "int64",
         "type": "integer"
        },
        {
         "name": "Quarter",
         "rawType": "object",
         "type": "string"
        },
        {
         "name": "C02199V02655",
         "rawType": "object",
         "type": "string"
        },
        {
         "name": "Sex",
         "rawType": "object",
         "type": "string"
        },
        {
         "name": "C04283V05060",
         "rawType": "object",
         "type": "string"
        },
        {
         "name": "Education Attainment Level",
         "rawType": "object",
         "type": "string"
        },
        {
         "name": "C02076V02508",
         "rawType": "object",
         "type": "string"
        },
        {
         "name": "Age Group",
         "rawType": "object",
         "type": "string"
        },
        {
         "name": "UNIT",
         "rawType": "object",
         "type": "string"
        },
        {
         "name": "VALUE",
         "rawType": "float64",
         "type": "float"
        }
       ],
       "ref": "bfd08a15-edde-4c98-996b-f4f1ffc570b7",
       "rows": [
        [
         "0",
         "QLF50C01",
         "Employment rate",
         "20191",
         "2019Q1",
         "-",
         "Both sexes",
         "-",
         "Levels of Education (Levels  0-8)",
         "-",
         "All ages",
         "%",
         "74.9"
        ],
        [
         "1",
         "QLF50C01",
         "Employment rate",
         "20191",
         "2019Q1",
         "-",
         "Both sexes",
         "-",
         "Levels of Education (Levels  0-8)",
         "365",
         "20 - 24 years",
         "%",
         "64.0"
        ],
        [
         "2",
         "QLF50C01",
         "Employment rate",
         "20191",
         "2019Q1",
         "-",
         "Both sexes",
         "-",
         "Levels of Education (Levels  0-8)",
         "410",
         "25 - 29 years",
         "%",
         "80.1"
        ],
        [
         "3",
         "QLF50C01",
         "Employment rate",
         "20191",
         "2019Q1",
         "-",
         "Both sexes",
         "-",
         "Levels of Education (Levels  0-8)",
         "4251",
         "25 - 54 years",
         "%",
         "80.1"
        ],
        [
         "4",
         "QLF50C01",
         "Employment rate",
         "20191",
         "2019Q1",
         "-",
         "Both sexes",
         "-",
         "Levels of Education (Levels  0-8)",
         "440",
         "30 - 34 years",
         "%",
         "81.4"
        ]
       ],
       "shape": {
        "columns": 12,
        "rows": 5
       }
      },
      "text/html": [
       "<div>\n",
       "<style scoped>\n",
       "    .dataframe tbody tr th:only-of-type {\n",
       "        vertical-align: middle;\n",
       "    }\n",
       "\n",
       "    .dataframe tbody tr th {\n",
       "        vertical-align: top;\n",
       "    }\n",
       "\n",
       "    .dataframe thead th {\n",
       "        text-align: right;\n",
       "    }\n",
       "</style>\n",
       "<table border=\"1\" class=\"dataframe\">\n",
       "  <thead>\n",
       "    <tr style=\"text-align: right;\">\n",
       "      <th></th>\n",
       "      <th>STATISTIC</th>\n",
       "      <th>Statistic Label</th>\n",
       "      <th>TLIST(Q1)</th>\n",
       "      <th>Quarter</th>\n",
       "      <th>C02199V02655</th>\n",
       "      <th>Sex</th>\n",
       "      <th>C04283V05060</th>\n",
       "      <th>Education Attainment Level</th>\n",
       "      <th>C02076V02508</th>\n",
       "      <th>Age Group</th>\n",
       "      <th>UNIT</th>\n",
       "      <th>VALUE</th>\n",
       "    </tr>\n",
       "  </thead>\n",
       "  <tbody>\n",
       "    <tr>\n",
       "      <th>0</th>\n",
       "      <td>QLF50C01</td>\n",
       "      <td>Employment rate</td>\n",
       "      <td>20191</td>\n",
       "      <td>2019Q1</td>\n",
       "      <td>-</td>\n",
       "      <td>Both sexes</td>\n",
       "      <td>-</td>\n",
       "      <td>Levels of Education (Levels  0-8)</td>\n",
       "      <td>-</td>\n",
       "      <td>All ages</td>\n",
       "      <td>%</td>\n",
       "      <td>74.9</td>\n",
       "    </tr>\n",
       "    <tr>\n",
       "      <th>1</th>\n",
       "      <td>QLF50C01</td>\n",
       "      <td>Employment rate</td>\n",
       "      <td>20191</td>\n",
       "      <td>2019Q1</td>\n",
       "      <td>-</td>\n",
       "      <td>Both sexes</td>\n",
       "      <td>-</td>\n",
       "      <td>Levels of Education (Levels  0-8)</td>\n",
       "      <td>365</td>\n",
       "      <td>20 - 24 years</td>\n",
       "      <td>%</td>\n",
       "      <td>64.0</td>\n",
       "    </tr>\n",
       "    <tr>\n",
       "      <th>2</th>\n",
       "      <td>QLF50C01</td>\n",
       "      <td>Employment rate</td>\n",
       "      <td>20191</td>\n",
       "      <td>2019Q1</td>\n",
       "      <td>-</td>\n",
       "      <td>Both sexes</td>\n",
       "      <td>-</td>\n",
       "      <td>Levels of Education (Levels  0-8)</td>\n",
       "      <td>410</td>\n",
       "      <td>25 - 29 years</td>\n",
       "      <td>%</td>\n",
       "      <td>80.1</td>\n",
       "    </tr>\n",
       "    <tr>\n",
       "      <th>3</th>\n",
       "      <td>QLF50C01</td>\n",
       "      <td>Employment rate</td>\n",
       "      <td>20191</td>\n",
       "      <td>2019Q1</td>\n",
       "      <td>-</td>\n",
       "      <td>Both sexes</td>\n",
       "      <td>-</td>\n",
       "      <td>Levels of Education (Levels  0-8)</td>\n",
       "      <td>4251</td>\n",
       "      <td>25 - 54 years</td>\n",
       "      <td>%</td>\n",
       "      <td>80.1</td>\n",
       "    </tr>\n",
       "    <tr>\n",
       "      <th>4</th>\n",
       "      <td>QLF50C01</td>\n",
       "      <td>Employment rate</td>\n",
       "      <td>20191</td>\n",
       "      <td>2019Q1</td>\n",
       "      <td>-</td>\n",
       "      <td>Both sexes</td>\n",
       "      <td>-</td>\n",
       "      <td>Levels of Education (Levels  0-8)</td>\n",
       "      <td>440</td>\n",
       "      <td>30 - 34 years</td>\n",
       "      <td>%</td>\n",
       "      <td>81.4</td>\n",
       "    </tr>\n",
       "  </tbody>\n",
       "</table>\n",
       "</div>"
      ],
      "text/plain": [
       "  STATISTIC  Statistic Label  TLIST(Q1) Quarter C02199V02655         Sex  \\\n",
       "0  QLF50C01  Employment rate      20191  2019Q1            -  Both sexes   \n",
       "1  QLF50C01  Employment rate      20191  2019Q1            -  Both sexes   \n",
       "2  QLF50C01  Employment rate      20191  2019Q1            -  Both sexes   \n",
       "3  QLF50C01  Employment rate      20191  2019Q1            -  Both sexes   \n",
       "4  QLF50C01  Employment rate      20191  2019Q1            -  Both sexes   \n",
       "\n",
       "  C04283V05060         Education Attainment Level C02076V02508      Age Group  \\\n",
       "0            -  Levels of Education (Levels  0-8)            -       All ages   \n",
       "1            -  Levels of Education (Levels  0-8)          365  20 - 24 years   \n",
       "2            -  Levels of Education (Levels  0-8)          410  25 - 29 years   \n",
       "3            -  Levels of Education (Levels  0-8)         4251  25 - 54 years   \n",
       "4            -  Levels of Education (Levels  0-8)          440  30 - 34 years   \n",
       "\n",
       "  UNIT  VALUE  \n",
       "0    %   74.9  \n",
       "1    %   64.0  \n",
       "2    %   80.1  \n",
       "3    %   80.1  \n",
       "4    %   81.4  "
      ]
     },
     "execution_count": 2,
     "metadata": {},
     "output_type": "execute_result"
    }
   ],
   "source": [
    "# load the dataset and print the first five rows\n",
    "df = pd.read_csv('dataset.csv')\n",
    "df.head()"
   ]
  },
  {
   "cell_type": "markdown",
   "metadata": {},
   "source": [
    "## **2. Understanding the Data**"
   ]
  },
  {
   "cell_type": "code",
   "execution_count": 3,
   "metadata": {},
   "outputs": [
    {
     "name": "stdout",
     "output_type": "stream",
     "text": [
      "The dataset has 12 columns and 4752 rows.\n"
     ]
    }
   ],
   "source": [
    "# extract the number of rows and columns\n",
    "nrows, ncols = df.shape\n",
    "print(f\"The dataset has {ncols} columns and {nrows} rows.\")"
   ]
  },
  {
   "cell_type": "markdown",
   "metadata": {},
   "source": [
    "After inspecting the data in datawrangler, the following general findings were made:\n",
    "\n",
    "- the main column of interest is `Value`, which gives the employment rate of a certain sex, age and education group throughout a quarter in the years 2019 - 2024\n",
    "- `TLIST(Q1)` and `Quarter` both represents the quarter in numerical (e.g. 20191) and object format (e.g. 2019Q1)\n",
    "- besides separate entries for different sex, age and education, there are also entries summarizing each group (e.g. both sexes). This allows for a global as well as local analysis"
   ]
  },
  {
   "cell_type": "code",
   "execution_count": 4,
   "metadata": {},
   "outputs": [
    {
     "data": {
      "application/vnd.microsoft.datawrangler.viewer.v0+json": {
       "columns": [
        {
         "name": "index",
         "rawType": "int64",
         "type": "integer"
        },
        {
         "name": "quarter",
         "rawType": "object",
         "type": "string"
        },
        {
         "name": "sex",
         "rawType": "object",
         "type": "string"
        },
        {
         "name": "education",
         "rawType": "object",
         "type": "string"
        },
        {
         "name": "age",
         "rawType": "object",
         "type": "string"
        },
        {
         "name": "employment",
         "rawType": "float64",
         "type": "float"
        }
       ],
       "ref": "e3eb9855-f422-4a4b-b8cc-6e50c78f4646",
       "rows": [
        [
         "0",
         "2019Q1",
         "Both sexes",
         "Levels of Education (Levels  0-8)",
         "All ages",
         "74.9"
        ],
        [
         "1",
         "2019Q1",
         "Both sexes",
         "Levels of Education (Levels  0-8)",
         "20 - 24 years",
         "64.0"
        ],
        [
         "2",
         "2019Q1",
         "Both sexes",
         "Levels of Education (Levels  0-8)",
         "25 - 29 years",
         "80.1"
        ],
        [
         "3",
         "2019Q1",
         "Both sexes",
         "Levels of Education (Levels  0-8)",
         "25 - 54 years",
         "80.1"
        ],
        [
         "4",
         "2019Q1",
         "Both sexes",
         "Levels of Education (Levels  0-8)",
         "30 - 34 years",
         "81.4"
        ]
       ],
       "shape": {
        "columns": 5,
        "rows": 5
       }
      },
      "text/html": [
       "<div>\n",
       "<style scoped>\n",
       "    .dataframe tbody tr th:only-of-type {\n",
       "        vertical-align: middle;\n",
       "    }\n",
       "\n",
       "    .dataframe tbody tr th {\n",
       "        vertical-align: top;\n",
       "    }\n",
       "\n",
       "    .dataframe thead th {\n",
       "        text-align: right;\n",
       "    }\n",
       "</style>\n",
       "<table border=\"1\" class=\"dataframe\">\n",
       "  <thead>\n",
       "    <tr style=\"text-align: right;\">\n",
       "      <th></th>\n",
       "      <th>quarter</th>\n",
       "      <th>sex</th>\n",
       "      <th>education</th>\n",
       "      <th>age</th>\n",
       "      <th>employment</th>\n",
       "    </tr>\n",
       "  </thead>\n",
       "  <tbody>\n",
       "    <tr>\n",
       "      <th>0</th>\n",
       "      <td>2019Q1</td>\n",
       "      <td>Both sexes</td>\n",
       "      <td>Levels of Education (Levels  0-8)</td>\n",
       "      <td>All ages</td>\n",
       "      <td>74.9</td>\n",
       "    </tr>\n",
       "    <tr>\n",
       "      <th>1</th>\n",
       "      <td>2019Q1</td>\n",
       "      <td>Both sexes</td>\n",
       "      <td>Levels of Education (Levels  0-8)</td>\n",
       "      <td>20 - 24 years</td>\n",
       "      <td>64.0</td>\n",
       "    </tr>\n",
       "    <tr>\n",
       "      <th>2</th>\n",
       "      <td>2019Q1</td>\n",
       "      <td>Both sexes</td>\n",
       "      <td>Levels of Education (Levels  0-8)</td>\n",
       "      <td>25 - 29 years</td>\n",
       "      <td>80.1</td>\n",
       "    </tr>\n",
       "    <tr>\n",
       "      <th>3</th>\n",
       "      <td>2019Q1</td>\n",
       "      <td>Both sexes</td>\n",
       "      <td>Levels of Education (Levels  0-8)</td>\n",
       "      <td>25 - 54 years</td>\n",
       "      <td>80.1</td>\n",
       "    </tr>\n",
       "    <tr>\n",
       "      <th>4</th>\n",
       "      <td>2019Q1</td>\n",
       "      <td>Both sexes</td>\n",
       "      <td>Levels of Education (Levels  0-8)</td>\n",
       "      <td>30 - 34 years</td>\n",
       "      <td>81.4</td>\n",
       "    </tr>\n",
       "  </tbody>\n",
       "</table>\n",
       "</div>"
      ],
      "text/plain": [
       "  quarter         sex                          education            age  \\\n",
       "0  2019Q1  Both sexes  Levels of Education (Levels  0-8)       All ages   \n",
       "1  2019Q1  Both sexes  Levels of Education (Levels  0-8)  20 - 24 years   \n",
       "2  2019Q1  Both sexes  Levels of Education (Levels  0-8)  25 - 29 years   \n",
       "3  2019Q1  Both sexes  Levels of Education (Levels  0-8)  25 - 54 years   \n",
       "4  2019Q1  Both sexes  Levels of Education (Levels  0-8)  30 - 34 years   \n",
       "\n",
       "   employment  \n",
       "0        74.9  \n",
       "1        64.0  \n",
       "2        80.1  \n",
       "3        80.1  \n",
       "4        81.4  "
      ]
     },
     "execution_count": 4,
     "metadata": {},
     "output_type": "execute_result"
    }
   ],
   "source": [
    "# isolate the relevant columns and change the column names to make them more usable\n",
    "df = df.loc[:, [\"Quarter\", \"Sex\", \"Education Attainment Level\", \"Age Group\", \"VALUE\"]]\n",
    "df.columns = [\"quarter\", \"sex\", \"education\", \"age\", \"employment\"]\n",
    "df.head()"
   ]
  },
  {
   "cell_type": "code",
   "execution_count": 5,
   "metadata": {},
   "outputs": [
    {
     "name": "stdout",
     "output_type": "stream",
     "text": [
      "<class 'pandas.core.frame.DataFrame'>\n",
      "RangeIndex: 4752 entries, 0 to 4751\n",
      "Data columns (total 5 columns):\n",
      " #   Column      Non-Null Count  Dtype  \n",
      "---  ------      --------------  -----  \n",
      " 0   quarter     4752 non-null   object \n",
      " 1   sex         4752 non-null   object \n",
      " 2   education   4752 non-null   object \n",
      " 3   age         4752 non-null   object \n",
      " 4   employment  3201 non-null   float64\n",
      "dtypes: float64(1), object(4)\n",
      "memory usage: 185.8+ KB\n"
     ]
    }
   ],
   "source": [
    "df.info()"
   ]
  },
  {
   "cell_type": "markdown",
   "metadata": {},
   "source": [
    "**Result**:\n",
    "- dataset with 5 columns and 4752 rows\n",
    "- 4 categorical features (`quarter`, `sex`, `education`, `age`) \n",
    "- 1 continuous label (`employment`)"
   ]
  },
  {
   "cell_type": "code",
   "execution_count": 6,
   "metadata": {},
   "outputs": [
    {
     "ename": "NameError",
     "evalue": "name 'sns' is not defined",
     "output_type": "error",
     "traceback": [
      "\u001b[31m---------------------------------------------------------------------------\u001b[39m",
      "\u001b[31mNameError\u001b[39m                                 Traceback (most recent call last)",
      "\u001b[36mCell\u001b[39m\u001b[36m \u001b[39m\u001b[32mIn[6]\u001b[39m\u001b[32m, line 1\u001b[39m\n\u001b[32m----> \u001b[39m\u001b[32m1\u001b[39m \u001b[43msns\u001b[49m.pairplot(df, hue=\u001b[33m'\u001b[39m\u001b[33memployment\u001b[39m\u001b[33m'\u001b[39m)\n",
      "\u001b[31mNameError\u001b[39m: name 'sns' is not defined"
     ]
    }
   ],
   "source": [
    "sns.pairplot(df, hue='employment')"
   ]
  }
 ],
 "metadata": {
  "kernelspec": {
   "display_name": ".venv",
   "language": "python",
   "name": "python3"
  },
  "language_info": {
   "codemirror_mode": {
    "name": "ipython",
    "version": 3
   },
   "file_extension": ".py",
   "mimetype": "text/x-python",
   "name": "python",
   "nbconvert_exporter": "python",
   "pygments_lexer": "ipython3",
   "version": "3.12.4"
  }
 },
 "nbformat": 4,
 "nbformat_minor": 2
}
