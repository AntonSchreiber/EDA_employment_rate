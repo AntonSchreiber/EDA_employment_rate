{
 "cells": [
  {
   "cell_type": "markdown",
   "metadata": {},
   "source": [
    "# **Exploratory Data Analysis Project**"
   ]
  },
  {
   "cell_type": "code",
   "execution_count": 2,
   "metadata": {},
   "outputs": [],
   "source": [
    "# imports\n",
    "import numpy as np\n",
    "import matplotlib.pyplot as plt\n",
    "import pandas as pd"
   ]
  },
  {
   "cell_type": "code",
   "execution_count": 4,
   "metadata": {},
   "outputs": [
    {
     "data": {
      "application/vnd.microsoft.datawrangler.viewer.v0+json": {
       "columns": [
        {
         "name": "index",
         "rawType": "int64",
         "type": "integer"
        },
        {
         "name": "STATISTIC",
         "rawType": "object",
         "type": "string"
        },
        {
         "name": "Statistic Label",
         "rawType": "object",
         "type": "string"
        },
        {
         "name": "TLIST(Q1)",
         "rawType": "int64",
         "type": "integer"
        },
        {
         "name": "Quarter",
         "rawType": "object",
         "type": "string"
        },
        {
         "name": "C02199V02655",
         "rawType": "object",
         "type": "string"
        },
        {
         "name": "Sex",
         "rawType": "object",
         "type": "string"
        },
        {
         "name": "C04283V05060",
         "rawType": "object",
         "type": "string"
        },
        {
         "name": "Education Attainment Level",
         "rawType": "object",
         "type": "string"
        },
        {
         "name": "C02076V02508",
         "rawType": "object",
         "type": "string"
        },
        {
         "name": "Age Group",
         "rawType": "object",
         "type": "string"
        },
        {
         "name": "UNIT",
         "rawType": "object",
         "type": "string"
        },
        {
         "name": "VALUE",
         "rawType": "float64",
         "type": "float"
        }
       ],
       "conversionMethod": "pd.DataFrame",
       "ref": "21892b76-1f79-49ad-9877-b6706ac9b310",
       "rows": [
        [
         "0",
         "QLF50C01",
         "Employment rate",
         "20191",
         "2019Q1",
         "-",
         "Both sexes",
         "-",
         "Levels of Education (Levels  0-8)",
         "-",
         "All ages",
         "%",
         "74.9"
        ],
        [
         "1",
         "QLF50C01",
         "Employment rate",
         "20191",
         "2019Q1",
         "-",
         "Both sexes",
         "-",
         "Levels of Education (Levels  0-8)",
         "365",
         "20 - 24 years",
         "%",
         "64.0"
        ],
        [
         "2",
         "QLF50C01",
         "Employment rate",
         "20191",
         "2019Q1",
         "-",
         "Both sexes",
         "-",
         "Levels of Education (Levels  0-8)",
         "410",
         "25 - 29 years",
         "%",
         "80.1"
        ],
        [
         "3",
         "QLF50C01",
         "Employment rate",
         "20191",
         "2019Q1",
         "-",
         "Both sexes",
         "-",
         "Levels of Education (Levels  0-8)",
         "4251",
         "25 - 54 years",
         "%",
         "80.1"
        ],
        [
         "4",
         "QLF50C01",
         "Employment rate",
         "20191",
         "2019Q1",
         "-",
         "Both sexes",
         "-",
         "Levels of Education (Levels  0-8)",
         "440",
         "30 - 34 years",
         "%",
         "81.4"
        ]
       ],
       "shape": {
        "columns": 12,
        "rows": 5
       }
      },
      "text/html": [
       "<div>\n",
       "<style scoped>\n",
       "    .dataframe tbody tr th:only-of-type {\n",
       "        vertical-align: middle;\n",
       "    }\n",
       "\n",
       "    .dataframe tbody tr th {\n",
       "        vertical-align: top;\n",
       "    }\n",
       "\n",
       "    .dataframe thead th {\n",
       "        text-align: right;\n",
       "    }\n",
       "</style>\n",
       "<table border=\"1\" class=\"dataframe\">\n",
       "  <thead>\n",
       "    <tr style=\"text-align: right;\">\n",
       "      <th></th>\n",
       "      <th>STATISTIC</th>\n",
       "      <th>Statistic Label</th>\n",
       "      <th>TLIST(Q1)</th>\n",
       "      <th>Quarter</th>\n",
       "      <th>C02199V02655</th>\n",
       "      <th>Sex</th>\n",
       "      <th>C04283V05060</th>\n",
       "      <th>Education Attainment Level</th>\n",
       "      <th>C02076V02508</th>\n",
       "      <th>Age Group</th>\n",
       "      <th>UNIT</th>\n",
       "      <th>VALUE</th>\n",
       "    </tr>\n",
       "  </thead>\n",
       "  <tbody>\n",
       "    <tr>\n",
       "      <th>0</th>\n",
       "      <td>QLF50C01</td>\n",
       "      <td>Employment rate</td>\n",
       "      <td>20191</td>\n",
       "      <td>2019Q1</td>\n",
       "      <td>-</td>\n",
       "      <td>Both sexes</td>\n",
       "      <td>-</td>\n",
       "      <td>Levels of Education (Levels  0-8)</td>\n",
       "      <td>-</td>\n",
       "      <td>All ages</td>\n",
       "      <td>%</td>\n",
       "      <td>74.9</td>\n",
       "    </tr>\n",
       "    <tr>\n",
       "      <th>1</th>\n",
       "      <td>QLF50C01</td>\n",
       "      <td>Employment rate</td>\n",
       "      <td>20191</td>\n",
       "      <td>2019Q1</td>\n",
       "      <td>-</td>\n",
       "      <td>Both sexes</td>\n",
       "      <td>-</td>\n",
       "      <td>Levels of Education (Levels  0-8)</td>\n",
       "      <td>365</td>\n",
       "      <td>20 - 24 years</td>\n",
       "      <td>%</td>\n",
       "      <td>64.0</td>\n",
       "    </tr>\n",
       "    <tr>\n",
       "      <th>2</th>\n",
       "      <td>QLF50C01</td>\n",
       "      <td>Employment rate</td>\n",
       "      <td>20191</td>\n",
       "      <td>2019Q1</td>\n",
       "      <td>-</td>\n",
       "      <td>Both sexes</td>\n",
       "      <td>-</td>\n",
       "      <td>Levels of Education (Levels  0-8)</td>\n",
       "      <td>410</td>\n",
       "      <td>25 - 29 years</td>\n",
       "      <td>%</td>\n",
       "      <td>80.1</td>\n",
       "    </tr>\n",
       "    <tr>\n",
       "      <th>3</th>\n",
       "      <td>QLF50C01</td>\n",
       "      <td>Employment rate</td>\n",
       "      <td>20191</td>\n",
       "      <td>2019Q1</td>\n",
       "      <td>-</td>\n",
       "      <td>Both sexes</td>\n",
       "      <td>-</td>\n",
       "      <td>Levels of Education (Levels  0-8)</td>\n",
       "      <td>4251</td>\n",
       "      <td>25 - 54 years</td>\n",
       "      <td>%</td>\n",
       "      <td>80.1</td>\n",
       "    </tr>\n",
       "    <tr>\n",
       "      <th>4</th>\n",
       "      <td>QLF50C01</td>\n",
       "      <td>Employment rate</td>\n",
       "      <td>20191</td>\n",
       "      <td>2019Q1</td>\n",
       "      <td>-</td>\n",
       "      <td>Both sexes</td>\n",
       "      <td>-</td>\n",
       "      <td>Levels of Education (Levels  0-8)</td>\n",
       "      <td>440</td>\n",
       "      <td>30 - 34 years</td>\n",
       "      <td>%</td>\n",
       "      <td>81.4</td>\n",
       "    </tr>\n",
       "  </tbody>\n",
       "</table>\n",
       "</div>"
      ],
      "text/plain": [
       "  STATISTIC  Statistic Label  TLIST(Q1) Quarter C02199V02655         Sex  \\\n",
       "0  QLF50C01  Employment rate      20191  2019Q1            -  Both sexes   \n",
       "1  QLF50C01  Employment rate      20191  2019Q1            -  Both sexes   \n",
       "2  QLF50C01  Employment rate      20191  2019Q1            -  Both sexes   \n",
       "3  QLF50C01  Employment rate      20191  2019Q1            -  Both sexes   \n",
       "4  QLF50C01  Employment rate      20191  2019Q1            -  Both sexes   \n",
       "\n",
       "  C04283V05060         Education Attainment Level C02076V02508      Age Group  \\\n",
       "0            -  Levels of Education (Levels  0-8)            -       All ages   \n",
       "1            -  Levels of Education (Levels  0-8)          365  20 - 24 years   \n",
       "2            -  Levels of Education (Levels  0-8)          410  25 - 29 years   \n",
       "3            -  Levels of Education (Levels  0-8)         4251  25 - 54 years   \n",
       "4            -  Levels of Education (Levels  0-8)          440  30 - 34 years   \n",
       "\n",
       "  UNIT  VALUE  \n",
       "0    %   74.9  \n",
       "1    %   64.0  \n",
       "2    %   80.1  \n",
       "3    %   80.1  \n",
       "4    %   81.4  "
      ]
     },
     "execution_count": 4,
     "metadata": {},
     "output_type": "execute_result"
    }
   ],
   "source": [
    "# load the dataset\n",
    "dataset = pd.read_csv('dataset.csv')\n",
    "dataset.head()"
   ]
  }
 ],
 "metadata": {
  "kernelspec": {
   "display_name": ".venv",
   "language": "python",
   "name": "python3"
  },
  "language_info": {
   "codemirror_mode": {
    "name": "ipython",
    "version": 3
   },
   "file_extension": ".py",
   "mimetype": "text/x-python",
   "name": "python",
   "nbconvert_exporter": "python",
   "pygments_lexer": "ipython3",
   "version": "3.12.4"
  }
 },
 "nbformat": 4,
 "nbformat_minor": 2
}
